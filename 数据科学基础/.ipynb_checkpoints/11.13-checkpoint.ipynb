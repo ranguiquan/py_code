{
 "cells": [
  {
   "cell_type": "code",
   "execution_count": 2,
   "metadata": {},
   "outputs": [],
   "source": [
    "import numpy as np\n",
    "import pandas as pd\n",
    "import matplotlib.pyplot as plt"
   ]
  },
  {
   "cell_type": "code",
   "execution_count": 135,
   "metadata": {},
   "outputs": [
    {
     "name": "stdout",
     "output_type": "stream",
     "text": [
      "56.0\n",
      "66.5\n",
      "71.5\n"
     ]
    }
   ],
   "source": [
    "family = pd.read_csv(\"/home/ran/Downloads/GaltonFamilies (1).csv\")\n",
    "family.sort_values(by = [\"childHeight\", 'childNum'], ascending = False)\n",
    "print(family.childHeight.min())\n",
    "print(family.childHeight.median())\n",
    "print(family.childHeight.quantile(q = 0.9))#分位数"
   ]
  },
  {
   "cell_type": "code",
   "execution_count": 13,
   "metadata": {},
   "outputs": [
    {
     "data": {
      "text/html": [
       "<div>\n",
       "<style scoped>\n",
       "    .dataframe tbody tr th:only-of-type {\n",
       "        vertical-align: middle;\n",
       "    }\n",
       "\n",
       "    .dataframe tbody tr th {\n",
       "        vertical-align: top;\n",
       "    }\n",
       "\n",
       "    .dataframe thead th {\n",
       "        text-align: right;\n",
       "    }\n",
       "</style>\n",
       "<table border=\"1\" class=\"dataframe\">\n",
       "  <thead>\n",
       "    <tr style=\"text-align: right;\">\n",
       "      <th></th>\n",
       "      <th>Age</th>\n",
       "      <th>Date</th>\n",
       "      <th>Player</th>\n",
       "      <th>Position</th>\n",
       "      <th>Season</th>\n",
       "      <th>Team</th>\n",
       "      <th>Weight</th>\n",
       "    </tr>\n",
       "  </thead>\n",
       "  <tbody>\n",
       "    <tr>\n",
       "      <th>0</th>\n",
       "      <td>29</td>\n",
       "      <td>14-Apr-85</td>\n",
       "      <td>Micheal Ray Richardson</td>\n",
       "      <td>PG</td>\n",
       "      <td>1984-1985</td>\n",
       "      <td>New Jersey Nets</td>\n",
       "      <td>189</td>\n",
       "    </tr>\n",
       "    <tr>\n",
       "      <th>1</th>\n",
       "      <td>23</td>\n",
       "      <td>7-Apr-85</td>\n",
       "      <td>Derek Smith</td>\n",
       "      <td>SG</td>\n",
       "      <td>1984-1985</td>\n",
       "      <td>Los Angeles Clippers</td>\n",
       "      <td>205</td>\n",
       "    </tr>\n",
       "    <tr>\n",
       "      <th>2</th>\n",
       "      <td>28</td>\n",
       "      <td>1-Apr-85</td>\n",
       "      <td>Calvin Natt</td>\n",
       "      <td>F</td>\n",
       "      <td>1984-1985</td>\n",
       "      <td>Denver Nuggets</td>\n",
       "      <td>220</td>\n",
       "    </tr>\n",
       "    <tr>\n",
       "      <th>3</th>\n",
       "      <td>37</td>\n",
       "      <td>24-Mar-85</td>\n",
       "      <td>Kareem Abdul-Jabbar</td>\n",
       "      <td>C</td>\n",
       "      <td>1984-1985</td>\n",
       "      <td>Los Angeles Lakers</td>\n",
       "      <td>225</td>\n",
       "    </tr>\n",
       "    <tr>\n",
       "      <th>4</th>\n",
       "      <td>28</td>\n",
       "      <td>17-Mar-85</td>\n",
       "      <td>Larry Bird</td>\n",
       "      <td>SF</td>\n",
       "      <td>1984-1985</td>\n",
       "      <td>Boston Celtics</td>\n",
       "      <td>220</td>\n",
       "    </tr>\n",
       "  </tbody>\n",
       "</table>\n",
       "</div>"
      ],
      "text/plain": [
       "   Age       Date                  Player Position     Season  \\\n",
       "0   29  14-Apr-85  Micheal Ray Richardson       PG  1984-1985   \n",
       "1   23   7-Apr-85             Derek Smith       SG  1984-1985   \n",
       "2   28   1-Apr-85             Calvin Natt        F  1984-1985   \n",
       "3   37  24-Mar-85     Kareem Abdul-Jabbar        C  1984-1985   \n",
       "4   28  17-Mar-85              Larry Bird       SF  1984-1985   \n",
       "\n",
       "                   Team Weight  \n",
       "0       New Jersey Nets    189  \n",
       "1  Los Angeles Clippers    205  \n",
       "2        Denver Nuggets    220  \n",
       "3    Los Angeles Lakers    225  \n",
       "4        Boston Celtics    220  "
      ]
     },
     "execution_count": 13,
     "metadata": {},
     "output_type": "execute_result"
    }
   ],
   "source": [
    "nba = pd.read_csv(\"/home/ran/Downloads/NBA_player_of_the_week.csv\")\n",
    "nba.head()"
   ]
  },
  {
   "cell_type": "code",
   "execution_count": 26,
   "metadata": {},
   "outputs": [
    {
     "data": {
      "text/html": [
       "<div>\n",
       "<style scoped>\n",
       "    .dataframe tbody tr th:only-of-type {\n",
       "        vertical-align: middle;\n",
       "    }\n",
       "\n",
       "    .dataframe tbody tr th {\n",
       "        vertical-align: top;\n",
       "    }\n",
       "\n",
       "    .dataframe thead th {\n",
       "        text-align: right;\n",
       "    }\n",
       "</style>\n",
       "<table border=\"1\" class=\"dataframe\">\n",
       "  <thead>\n",
       "    <tr style=\"text-align: right;\">\n",
       "      <th></th>\n",
       "      <th>Face</th>\n",
       "    </tr>\n",
       "  </thead>\n",
       "  <tbody>\n",
       "    <tr>\n",
       "      <th>0</th>\n",
       "      <td>1</td>\n",
       "    </tr>\n",
       "    <tr>\n",
       "      <th>1</th>\n",
       "      <td>2</td>\n",
       "    </tr>\n",
       "    <tr>\n",
       "      <th>2</th>\n",
       "      <td>3</td>\n",
       "    </tr>\n",
       "    <tr>\n",
       "      <th>3</th>\n",
       "      <td>4</td>\n",
       "    </tr>\n",
       "    <tr>\n",
       "      <th>4</th>\n",
       "      <td>5</td>\n",
       "    </tr>\n",
       "    <tr>\n",
       "      <th>5</th>\n",
       "      <td>6</td>\n",
       "    </tr>\n",
       "  </tbody>\n",
       "</table>\n",
       "</div>"
      ],
      "text/plain": [
       "   Face\n",
       "0     1\n",
       "1     2\n",
       "2     3\n",
       "3     4\n",
       "4     5\n",
       "5     6"
      ]
     },
     "execution_count": 26,
     "metadata": {},
     "output_type": "execute_result"
    }
   ],
   "source": [
    "face = pd.DataFrame({\"Face\":np.arange(1,7,1)})\n",
    "face"
   ]
  },
  {
   "cell_type": "code",
   "execution_count": 36,
   "metadata": {},
   "outputs": [
    {
     "data": {
      "text/plain": [
       "Text(0.5,1,'distribution')"
      ]
     },
     "execution_count": 36,
     "metadata": {},
     "output_type": "execute_result"
    },
    {
     "data": {
      "image/png": "[encoded data removed]",
      "text/plain": [
       "<Figure size 432x288 with 1 Axes>"
      ]
     },
     "metadata": {},
     "output_type": "display_data"
    }
   ],
   "source": [
    "face_bins = np.arange(0.5,6.6,1)\n",
    "face.hist(bins = face_bins, edgecolor = 'g', facecolor = 'y', density = True)\n",
    "plt.grid(False)\n",
    "plt.xlabel('Face')\n",
    "plt.ylabel('Density')\n",
    "plt.title('distribution')"
   ]
  },
  {
   "cell_type": "code",
   "execution_count": 49,
   "metadata": {},
   "outputs": [
    {
     "data": {
      "text/html": [
       "<div>\n",
       "<style scoped>\n",
       "    .dataframe tbody tr th:only-of-type {\n",
       "        vertical-align: middle;\n",
       "    }\n",
       "\n",
       "    .dataframe tbody tr th {\n",
       "        vertical-align: top;\n",
       "    }\n",
       "\n",
       "    .dataframe thead th {\n",
       "        text-align: right;\n",
       "    }\n",
       "</style>\n",
       "<table border=\"1\" class=\"dataframe\">\n",
       "  <thead>\n",
       "    <tr style=\"text-align: right;\">\n",
       "      <th></th>\n",
       "      <th>Age</th>\n",
       "      <th>Date</th>\n",
       "      <th>Player</th>\n",
       "      <th>Position</th>\n",
       "      <th>Season</th>\n",
       "      <th>Team</th>\n",
       "      <th>Weight</th>\n",
       "    </tr>\n",
       "  </thead>\n",
       "  <tbody>\n",
       "    <tr>\n",
       "      <th>414</th>\n",
       "      <td>24</td>\n",
       "      <td>16-Dec-01</td>\n",
       "      <td>Richard Hamilton</td>\n",
       "      <td>SG</td>\n",
       "      <td>2001-2002</td>\n",
       "      <td>Washington Wizards</td>\n",
       "      <td>193</td>\n",
       "    </tr>\n",
       "    <tr>\n",
       "      <th>763</th>\n",
       "      <td>25</td>\n",
       "      <td>1-Mar-10</td>\n",
       "      <td>LeBron James</td>\n",
       "      <td>F</td>\n",
       "      <td>2009-2010</td>\n",
       "      <td>Cleveland Cavaliers</td>\n",
       "      <td>250</td>\n",
       "    </tr>\n",
       "    <tr>\n",
       "      <th>790</th>\n",
       "      <td>31</td>\n",
       "      <td>23-Nov-09</td>\n",
       "      <td>Kobe Bryant</td>\n",
       "      <td>SG</td>\n",
       "      <td>2009-2010</td>\n",
       "      <td>Los Angeles Lakers</td>\n",
       "      <td>212</td>\n",
       "    </tr>\n",
       "    <tr>\n",
       "      <th>448</th>\n",
       "      <td>25</td>\n",
       "      <td>26-Jan-03</td>\n",
       "      <td>Paul Pierce</td>\n",
       "      <td>SF</td>\n",
       "      <td>2002-2003</td>\n",
       "      <td>Boston Celtics</td>\n",
       "      <td>235</td>\n",
       "    </tr>\n",
       "    <tr>\n",
       "      <th>1043</th>\n",
       "      <td>25</td>\n",
       "      <td>7-Dec-15</td>\n",
       "      <td>Reggie Jackson</td>\n",
       "      <td>G</td>\n",
       "      <td>2015-2016</td>\n",
       "      <td>Detroit Pistons</td>\n",
       "      <td>208</td>\n",
       "    </tr>\n",
       "    <tr>\n",
       "      <th>723</th>\n",
       "      <td>25</td>\n",
       "      <td>2-Feb-09</td>\n",
       "      <td>David Lee</td>\n",
       "      <td>FC</td>\n",
       "      <td>2008-2009</td>\n",
       "      <td>New York Knicks</td>\n",
       "      <td>245</td>\n",
       "    </tr>\n",
       "    <tr>\n",
       "      <th>531</th>\n",
       "      <td>27</td>\n",
       "      <td>13-Mar-05</td>\n",
       "      <td>Paul Pierce</td>\n",
       "      <td>SF</td>\n",
       "      <td>2004-2005</td>\n",
       "      <td>Boston Celtics</td>\n",
       "      <td>235</td>\n",
       "    </tr>\n",
       "    <tr>\n",
       "      <th>883</th>\n",
       "      <td>22</td>\n",
       "      <td>18-Mar-13</td>\n",
       "      <td>John Wall</td>\n",
       "      <td>PG</td>\n",
       "      <td>2012-2013</td>\n",
       "      <td>Washington Wizards</td>\n",
       "      <td>210</td>\n",
       "    </tr>\n",
       "    <tr>\n",
       "      <th>357</th>\n",
       "      <td>23</td>\n",
       "      <td>21-Nov-99</td>\n",
       "      <td>Vince Carter</td>\n",
       "      <td>SF</td>\n",
       "      <td>1999-2000</td>\n",
       "      <td>Toronto Raptors</td>\n",
       "      <td>220</td>\n",
       "    </tr>\n",
       "    <tr>\n",
       "      <th>302</th>\n",
       "      <td>28</td>\n",
       "      <td>12-Apr-98</td>\n",
       "      <td>Sam Cassell</td>\n",
       "      <td>G</td>\n",
       "      <td>1997-1998</td>\n",
       "      <td>New Jersey Nets</td>\n",
       "      <td>185</td>\n",
       "    </tr>\n",
       "  </tbody>\n",
       "</table>\n",
       "</div>"
      ],
      "text/plain": [
       "      Age       Date            Player Position     Season  \\\n",
       "414    24  16-Dec-01  Richard Hamilton       SG  2001-2002   \n",
       "763    25   1-Mar-10      LeBron James        F  2009-2010   \n",
       "790    31  23-Nov-09       Kobe Bryant       SG  2009-2010   \n",
       "448    25  26-Jan-03       Paul Pierce       SF  2002-2003   \n",
       "1043   25   7-Dec-15    Reggie Jackson        G  2015-2016   \n",
       "723    25   2-Feb-09         David Lee       FC  2008-2009   \n",
       "531    27  13-Mar-05       Paul Pierce       SF  2004-2005   \n",
       "883    22  18-Mar-13         John Wall       PG  2012-2013   \n",
       "357    23  21-Nov-99      Vince Carter       SF  1999-2000   \n",
       "302    28  12-Apr-98       Sam Cassell        G  1997-1998   \n",
       "\n",
       "                     Team Weight  \n",
       "414    Washington Wizards    193  \n",
       "763   Cleveland Cavaliers    250  \n",
       "790    Los Angeles Lakers    212  \n",
       "448        Boston Celtics    235  \n",
       "1043      Detroit Pistons    208  \n",
       "723       New York Knicks    245  \n",
       "531        Boston Celtics    235  \n",
       "883    Washington Wizards    210  \n",
       "357       Toronto Raptors    220  \n",
       "302       New Jersey Nets    185  "
      ]
     },
     "execution_count": 49,
     "metadata": {},
     "output_type": "execute_result"
    }
   ],
   "source": [
    "nba.sample(10)\n",
    "#不放回随机抽取\n",
    "nba.sample(10,replace=True)\n",
    "#有放回抽样\n"
   ]
  },
  {
   "cell_type": "code",
   "execution_count": 64,
   "metadata": {},
   "outputs": [
    {
     "data": {
      "image/png": "[encoded data removed]",
      "text/plain": [
       "<Figure size 432x288 with 1 Axes>"
      ]
     },
     "metadata": {},
     "output_type": "display_data"
    }
   ],
   "source": [
    "def empirical_hist_face(n):\n",
    "    face_bins = np.arange(0.5,6.6,1)\n",
    "    face.sample(n, replace=True).hist(bins = face_bins, facecolor = 'y', edgecolor = 'r', density = True)\n",
    "    plt.xlabel(\"Face\")\n",
    "    plt.ylabel(\"density\")\n",
    "    plt.title(\"empirical_hist_face\")\n",
    "    plt.grid(False)\n",
    "empirical_hist_face(100)"
   ]
  },
  {
   "cell_type": "code",
   "execution_count": 86,
   "metadata": {},
   "outputs": [
    {
     "data": {
      "text/plain": [
       "[<matplotlib.lines.Line2D at 0x7f39cc4696d8>]"
      ]
     },
     "execution_count": 86,
     "metadata": {},
     "output_type": "execute_result"
    },
    {
     "data": {
      "image/png": "[encoded data removed]",
      "text/plain": [
       "<Figure size 432x288 with 1 Axes>"
      ]
     },
     "metadata": {},
     "output_type": "display_data"
    }
   ],
   "source": [
    "def cal_ratio(n):\n",
    "    x = np.random.uniform(-0.5, 0.5, n)\n",
    "    y = np.random.uniform(-0.5, 0.5, n)\n",
    "    result = np.power(x, 2) + np.power(y, 2) <= np.power(0.5, 2)\n",
    "    return result.sum()/n*4\n",
    "l = []\n",
    "for i in np.arange(1,10001):\n",
    "    l.append(cal_ratio(i))\n",
    "x = np.arange(1,10001)\n",
    "plt.plot(x, l)\n",
    "plt.xlabel('x')\n",
    "plt.ylabel('$\\pi$')\n",
    "plt.plot([0,10000], [np.pi, np.pi], lw = 2, color = 'r')\n"
   ]
  },
  {
   "cell_type": "code",
   "execution_count": 95,
   "metadata": {},
   "outputs": [
    {
     "data": {
      "image/png": "[encoded data removed]",
      "text/plain": [
       "<Figure size 432x288 with 1 Axes>"
      ]
     },
     "metadata": {},
     "output_type": "display_data"
    }
   ],
   "source": [
    "x = np.arange(1, 10, 0.01)\n",
    "y = (1.5 + np.sin(x)) * (x + np.power(x, 2))\n",
    "plt.plot(x, y)\n",
    "plt.xticks(np.arange(1,11,1))\n",
    "plt.show()"
   ]
  },
  {
   "cell_type": "code",
   "execution_count": 94,
   "metadata": {},
   "outputs": [
    {
     "name": "stdout",
     "output_type": "stream",
     "text": [
      "<class 'numpy.ndarray'>\n"
     ]
    },
    {
     "data": {
      "text/plain": [
       "728.2"
      ]
     },
     "execution_count": 94,
     "metadata": {},
     "output_type": "execute_result"
    }
   ],
   "source": [
    "def inte(n):\n",
    "    x0 = np.random.uniform(1,10, n)\n",
    "    y0 = np.random.uniform(0, 200, n)\n",
    "    result = (1.5 + np.sin(x0)) * (x0 + np.power(x0, 2)) > y0\n",
    "    return result.sum()/n * 10*200\n",
    "inte(100000)"
   ]
  },
  {
   "cell_type": "code",
   "execution_count": 114,
   "metadata": {},
   "outputs": [
    {
     "name": "stdout",
     "output_type": "stream",
     "text": [
      "0.33272\n"
     ]
    }
   ],
   "source": [
    "r = []\n",
    "door = np.arange(1,4)\n",
    "for n in np.arange(1,100001):\n",
    "    car = np.random.randint(1, 4, 1)\n",
    "    choice = np.random.randint(1,4,1)\n",
    "    if choice == car:\n",
    "        r = np.append(r, True)\n",
    "    else:\n",
    "        r = np.append(r, False)\n",
    "print(r.sum()/100000)"
   ]
  },
  {
   "cell_type": "code",
   "execution_count": 124,
   "metadata": {},
   "outputs": [
    {
     "name": "stdout",
     "output_type": "stream",
     "text": [
      "Object `pandas.DataFrame` not found.\n"
     ]
    }
   ],
   "source": []
  },
  {
   "cell_type": "code",
   "execution_count": null,
   "metadata": {},
   "outputs": [],
   "source": []
  }
 ],
 "metadata": {
  "kernelspec": {
   "display_name": "Python 3",
   "language": "python",
   "name": "python3"
  },
  "language_info": {
   "codemirror_mode": {
    "name": "ipython",
    "version": 3
   },
   "file_extension": ".py",
   "mimetype": "text/x-python",
   "name": "python",
   "nbconvert_exporter": "python",
   "pygments_lexer": "ipython3",
   "version": "3.6.5"
  }
 },
 "nbformat": 4,
 "nbformat_minor": 2
}
