{
 "cells": [
  {
   "cell_type": "code",
   "execution_count": 4,
   "metadata": {},
   "outputs": [
    {
     "data": {
      "image/png": "[encoded data removed]",
      "text/plain": [
       "<Figure size 432x288 with 1 Axes>"
      ]
     },
     "metadata": {},
     "output_type": "display_data"
    }
   ],
   "source": [
    "import numpy as np\n",
    "import matplotlib.pyplot as plt\n",
    "mu, sigma = 100, 15\n",
    "x = mu + sigma * np.random.randn(1000)\n",
    "plt.figure(17)\n",
    "num_bins = 50\n",
    "plt.hist(x, num_bins, density = True, color='r', edgecolor = 'k')\n",
    "plt.show()"
   ]
  },
  {
   "cell_type": "code",
   "execution_count": 6,
   "metadata": {},
   "outputs": [
    {
     "data": {
      "text/plain": [
       "{'whiskers': [<matplotlib.lines.Line2D at 0x7f9874d869b0>,\n",
       "  <matplotlib.lines.Line2D at 0x7f9874d86e48>],\n",
       " 'caps': [<matplotlib.lines.Line2D at 0x7f9874d8b2b0>,\n",
       "  <matplotlib.lines.Line2D at 0x7f9874d8b6d8>],\n",
       " 'boxes': [<matplotlib.lines.Line2D at 0x7f9874d86860>],\n",
       " 'medians': [<matplotlib.lines.Line2D at 0x7f9874d8bb00>],\n",
       " 'fliers': [<matplotlib.lines.Line2D at 0x7f9874d8bf28>],\n",
       " 'means': []}"
      ]
     },
     "execution_count": 6,
     "metadata": {},
     "output_type": "execute_result"
    },
    {
     "data": {
      "image/png": "[encoded data removed]",
      "text/plain": [
       "<Figure size 432x288 with 1 Axes>"
      ]
     },
     "metadata": {},
     "output_type": "display_data"
    }
   ],
   "source": [
    "plt.boxplot(x)"
   ]
  },
  {
   "cell_type": "code",
   "execution_count": 3,
   "metadata": {},
   "outputs": [
    {
     "name": "stdout",
     "output_type": "stream",
     "text": [
      "99.85752442005597\n"
     ]
    }
   ],
   "source": [
    "print(np.percentile(x,49))"
   ]
  },
  {
   "cell_type": "code",
   "execution_count": null,
   "metadata": {},
   "outputs": [],
   "source": []
  }
 ],
 "metadata": {
  "kernelspec": {
   "display_name": "Python 3",
   "language": "python",
   "name": "python3"
  },
  "language_info": {
   "codemirror_mode": {
    "name": "ipython",
    "version": 3
   },
   "file_extension": ".py",
   "mimetype": "text/x-python",
   "name": "python",
   "nbconvert_exporter": "python",
   "pygments_lexer": "ipython3",
   "version": "3.6.5"
  }
 },
 "nbformat": 4,
 "nbformat_minor": 2
}
