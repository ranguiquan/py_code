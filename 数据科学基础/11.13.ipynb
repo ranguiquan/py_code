{
 "cells": [
  {
   "cell_type": "code",
   "execution_count": 1,
   "metadata": {},
   "outputs": [],
   "source": [
    "import numpy as np\n",
    "import pandas as pd\n",
    "import matplotlib.pyplot as plt"
   ]
  },
  {
   "cell_type": "code",
   "execution_count": 2,
   "metadata": {},
   "outputs": [
    {
     "name": "stdout",
     "output_type": "stream",
     "text": [
      "56.0\n",
      "66.5\n",
      "71.5\n"
     ]
    }
   ],
   "source": [
    "family = pd.read_csv(\"/home/ran/Downloads/GaltonFamilies (1).csv\")\n",
    "family.sort_values(by = [\"childHeight\", 'childNum'], ascending = False)\n",
    "print(family.childHeight.min())\n",
    "print(family.childHeight.median())\n",
    "print(family.childHeight.quantile(q = 0.9))#分位数"
   ]
  },
  {
   "cell_type": "code",
   "execution_count": 3,
   "metadata": {},
   "outputs": [
    {
     "data": {
      "text/html": [
       "<div>\n",
       "<style scoped>\n",
       "    .dataframe tbody tr th:only-of-type {\n",
       "        vertical-align: middle;\n",
       "    }\n",
       "\n",
       "    .dataframe tbody tr th {\n",
       "        vertical-align: top;\n",
       "    }\n",
       "\n",
       "    .dataframe thead th {\n",
       "        text-align: right;\n",
       "    }\n",
       "</style>\n",
       "<table border=\"1\" class=\"dataframe\">\n",
       "  <thead>\n",
       "    <tr style=\"text-align: right;\">\n",
       "      <th></th>\n",
       "      <th>Age</th>\n",
       "      <th>Date</th>\n",
       "      <th>Player</th>\n",
       "      <th>Position</th>\n",
       "      <th>Season</th>\n",
       "      <th>Team</th>\n",
       "      <th>Weight</th>\n",
       "    </tr>\n",
       "  </thead>\n",
       "  <tbody>\n",
       "    <tr>\n",
       "      <th>0</th>\n",
       "      <td>29</td>\n",
       "      <td>14-Apr-85</td>\n",
       "      <td>Micheal Ray Richardson</td>\n",
       "      <td>PG</td>\n",
       "      <td>1984-1985</td>\n",
       "      <td>New Jersey Nets</td>\n",
       "      <td>189</td>\n",
       "    </tr>\n",
       "    <tr>\n",
       "      <th>1</th>\n",
       "      <td>23</td>\n",
       "      <td>7-Apr-85</td>\n",
       "      <td>Derek Smith</td>\n",
       "      <td>SG</td>\n",
       "      <td>1984-1985</td>\n",
       "      <td>Los Angeles Clippers</td>\n",
       "      <td>205</td>\n",
       "    </tr>\n",
       "    <tr>\n",
       "      <th>2</th>\n",
       "      <td>28</td>\n",
       "      <td>1-Apr-85</td>\n",
       "      <td>Calvin Natt</td>\n",
       "      <td>F</td>\n",
       "      <td>1984-1985</td>\n",
       "      <td>Denver Nuggets</td>\n",
       "      <td>220</td>\n",
       "    </tr>\n",
       "    <tr>\n",
       "      <th>3</th>\n",
       "      <td>37</td>\n",
       "      <td>24-Mar-85</td>\n",
       "      <td>Kareem Abdul-Jabbar</td>\n",
       "      <td>C</td>\n",
       "      <td>1984-1985</td>\n",
       "      <td>Los Angeles Lakers</td>\n",
       "      <td>225</td>\n",
       "    </tr>\n",
       "    <tr>\n",
       "      <th>4</th>\n",
       "      <td>28</td>\n",
       "      <td>17-Mar-85</td>\n",
       "      <td>Larry Bird</td>\n",
       "      <td>SF</td>\n",
       "      <td>1984-1985</td>\n",
       "      <td>Boston Celtics</td>\n",
       "      <td>220</td>\n",
       "    </tr>\n",
       "  </tbody>\n",
       "</table>\n",
       "</div>"
      ],
      "text/plain": [
       "   Age       Date                  Player Position     Season  \\\n",
       "0   29  14-Apr-85  Micheal Ray Richardson       PG  1984-1985   \n",
       "1   23   7-Apr-85             Derek Smith       SG  1984-1985   \n",
       "2   28   1-Apr-85             Calvin Natt        F  1984-1985   \n",
       "3   37  24-Mar-85     Kareem Abdul-Jabbar        C  1984-1985   \n",
       "4   28  17-Mar-85              Larry Bird       SF  1984-1985   \n",
       "\n",
       "                   Team Weight  \n",
       "0       New Jersey Nets    189  \n",
       "1  Los Angeles Clippers    205  \n",
       "2        Denver Nuggets    220  \n",
       "3    Los Angeles Lakers    225  \n",
       "4        Boston Celtics    220  "
      ]
     },
     "execution_count": 3,
     "metadata": {},
     "output_type": "execute_result"
    }
   ],
   "source": [
    "nba = pd.read_csv(\"/home/ran/Downloads/NBA_player_of_the_week.csv\")\n",
    "nba.head()"
   ]
  },
  {
   "cell_type": "code",
   "execution_count": 4,
   "metadata": {},
   "outputs": [
    {
     "data": {
      "text/html": [
       "<div>\n",
       "<style scoped>\n",
       "    .dataframe tbody tr th:only-of-type {\n",
       "        vertical-align: middle;\n",
       "    }\n",
       "\n",
       "    .dataframe tbody tr th {\n",
       "        vertical-align: top;\n",
       "    }\n",
       "\n",
       "    .dataframe thead th {\n",
       "        text-align: right;\n",
       "    }\n",
       "</style>\n",
       "<table border=\"1\" class=\"dataframe\">\n",
       "  <thead>\n",
       "    <tr style=\"text-align: right;\">\n",
       "      <th></th>\n",
       "      <th>Face</th>\n",
       "    </tr>\n",
       "  </thead>\n",
       "  <tbody>\n",
       "    <tr>\n",
       "      <th>0</th>\n",
       "      <td>1</td>\n",
       "    </tr>\n",
       "    <tr>\n",
       "      <th>1</th>\n",
       "      <td>2</td>\n",
       "    </tr>\n",
       "    <tr>\n",
       "      <th>2</th>\n",
       "      <td>3</td>\n",
       "    </tr>\n",
       "    <tr>\n",
       "      <th>3</th>\n",
       "      <td>4</td>\n",
       "    </tr>\n",
       "    <tr>\n",
       "      <th>4</th>\n",
       "      <td>5</td>\n",
       "    </tr>\n",
       "    <tr>\n",
       "      <th>5</th>\n",
       "      <td>6</td>\n",
       "    </tr>\n",
       "  </tbody>\n",
       "</table>\n",
       "</div>"
      ],
      "text/plain": [
       "   Face\n",
       "0     1\n",
       "1     2\n",
       "2     3\n",
       "3     4\n",
       "4     5\n",
       "5     6"
      ]
     },
     "execution_count": 4,
     "metadata": {},
     "output_type": "execute_result"
    }
   ],
   "source": [
    "face = pd.DataFrame({\"Face\":np.arange(1,7,1)})\n",
    "face"
   ]
  },
  {
   "cell_type": "code",
   "execution_count": 5,
   "metadata": {},
   "outputs": [
    {
     "data": {
      "text/plain": [
       "Text(0.5,1,'distribution')"
      ]
     },
     "execution_count": 5,
     "metadata": {},
     "output_type": "execute_result"
    },
    {
     "data": {
      "image/png": "[encoded data removed]",
      "text/plain": [
       "<Figure size 432x288 with 1 Axes>"
      ]
     },
     "metadata": {},
     "output_type": "display_data"
    }
   ],
   "source": [
    "face_bins = np.arange(0.5,6.6,1)\n",
    "face.hist(bins = face_bins, edgecolor = 'g', facecolor = 'y', density = True)\n",
    "plt.grid(False)\n",
    "plt.xlabel('Face')\n",
    "plt.ylabel('Density')\n",
    "plt.title('distribution')"
   ]
  },
  {
   "cell_type": "code",
   "execution_count": 6,
   "metadata": {},
   "outputs": [
    {
     "data": {
      "text/html": [
       "<div>\n",
       "<style scoped>\n",
       "    .dataframe tbody tr th:only-of-type {\n",
       "        vertical-align: middle;\n",
       "    }\n",
       "\n",
       "    .dataframe tbody tr th {\n",
       "        vertical-align: top;\n",
       "    }\n",
       "\n",
       "    .dataframe thead th {\n",
       "        text-align: right;\n",
       "    }\n",
       "</style>\n",
       "<table border=\"1\" class=\"dataframe\">\n",
       "  <thead>\n",
       "    <tr style=\"text-align: right;\">\n",
       "      <th></th>\n",
       "      <th>Age</th>\n",
       "      <th>Date</th>\n",
       "      <th>Player</th>\n",
       "      <th>Position</th>\n",
       "      <th>Season</th>\n",
       "      <th>Team</th>\n",
       "      <th>Weight</th>\n",
       "    </tr>\n",
       "  </thead>\n",
       "  <tbody>\n",
       "    <tr>\n",
       "      <th>448</th>\n",
       "      <td>25</td>\n",
       "      <td>26-Jan-03</td>\n",
       "      <td>Paul Pierce</td>\n",
       "      <td>SF</td>\n",
       "      <td>2002-2003</td>\n",
       "      <td>Boston Celtics</td>\n",
       "      <td>235</td>\n",
       "    </tr>\n",
       "    <tr>\n",
       "      <th>321</th>\n",
       "      <td>35</td>\n",
       "      <td>23-Nov-97</td>\n",
       "      <td>Michael Jordan</td>\n",
       "      <td>SG</td>\n",
       "      <td>1997-1998</td>\n",
       "      <td>Chicago Bulls</td>\n",
       "      <td>215</td>\n",
       "    </tr>\n",
       "    <tr>\n",
       "      <th>485</th>\n",
       "      <td>24</td>\n",
       "      <td>7-Mar-04</td>\n",
       "      <td>Lamar Odom</td>\n",
       "      <td>PF</td>\n",
       "      <td>2003-2004</td>\n",
       "      <td>Miami Heat</td>\n",
       "      <td>230</td>\n",
       "    </tr>\n",
       "    <tr>\n",
       "      <th>522</th>\n",
       "      <td>25</td>\n",
       "      <td>17-Apr-05</td>\n",
       "      <td>Tracy McGrady</td>\n",
       "      <td>GF</td>\n",
       "      <td>2004-2005</td>\n",
       "      <td>Houston Rockets</td>\n",
       "      <td>210</td>\n",
       "    </tr>\n",
       "    <tr>\n",
       "      <th>409</th>\n",
       "      <td>28</td>\n",
       "      <td>6-Jan-02</td>\n",
       "      <td>Chris Webber</td>\n",
       "      <td>F-C</td>\n",
       "      <td>2001-2002</td>\n",
       "      <td>Sacramento Kings</td>\n",
       "      <td>245</td>\n",
       "    </tr>\n",
       "    <tr>\n",
       "      <th>705</th>\n",
       "      <td>25</td>\n",
       "      <td>13-Apr-09</td>\n",
       "      <td>Ben Gordon</td>\n",
       "      <td>SG</td>\n",
       "      <td>2008-2009</td>\n",
       "      <td>Chicago Bulls</td>\n",
       "      <td>200</td>\n",
       "    </tr>\n",
       "    <tr>\n",
       "      <th>327</th>\n",
       "      <td>35</td>\n",
       "      <td>11-Apr-99</td>\n",
       "      <td>Karl Malone</td>\n",
       "      <td>PF</td>\n",
       "      <td>1998-1999</td>\n",
       "      <td>Utah Jazz</td>\n",
       "      <td>265</td>\n",
       "    </tr>\n",
       "    <tr>\n",
       "      <th>61</th>\n",
       "      <td>24</td>\n",
       "      <td>28-Dec-86</td>\n",
       "      <td>Patrick Ewing</td>\n",
       "      <td>C</td>\n",
       "      <td>1986-1987</td>\n",
       "      <td>New York Knicks</td>\n",
       "      <td>240</td>\n",
       "    </tr>\n",
       "    <tr>\n",
       "      <th>45</th>\n",
       "      <td>24</td>\n",
       "      <td>3-Nov-85</td>\n",
       "      <td>Derek Smith</td>\n",
       "      <td>SG</td>\n",
       "      <td>1985-1986</td>\n",
       "      <td>Los Angeles Clippers</td>\n",
       "      <td>205</td>\n",
       "    </tr>\n",
       "    <tr>\n",
       "      <th>1083</th>\n",
       "      <td>27</td>\n",
       "      <td>19-Dec-16</td>\n",
       "      <td>DeMar DeRozan</td>\n",
       "      <td>GF</td>\n",
       "      <td>2016-2017</td>\n",
       "      <td>Toronto Raptors</td>\n",
       "      <td>100kg</td>\n",
       "    </tr>\n",
       "  </tbody>\n",
       "</table>\n",
       "</div>"
      ],
      "text/plain": [
       "      Age       Date          Player Position     Season  \\\n",
       "448    25  26-Jan-03     Paul Pierce       SF  2002-2003   \n",
       "321    35  23-Nov-97  Michael Jordan       SG  1997-1998   \n",
       "485    24   7-Mar-04      Lamar Odom       PF  2003-2004   \n",
       "522    25  17-Apr-05   Tracy McGrady       GF  2004-2005   \n",
       "409    28   6-Jan-02    Chris Webber      F-C  2001-2002   \n",
       "705    25  13-Apr-09      Ben Gordon       SG  2008-2009   \n",
       "327    35  11-Apr-99     Karl Malone       PF  1998-1999   \n",
       "61     24  28-Dec-86   Patrick Ewing        C  1986-1987   \n",
       "45     24   3-Nov-85     Derek Smith       SG  1985-1986   \n",
       "1083   27  19-Dec-16   DeMar DeRozan       GF  2016-2017   \n",
       "\n",
       "                      Team Weight  \n",
       "448         Boston Celtics    235  \n",
       "321          Chicago Bulls    215  \n",
       "485             Miami Heat    230  \n",
       "522        Houston Rockets    210  \n",
       "409       Sacramento Kings    245  \n",
       "705          Chicago Bulls    200  \n",
       "327              Utah Jazz    265  \n",
       "61         New York Knicks    240  \n",
       "45    Los Angeles Clippers    205  \n",
       "1083       Toronto Raptors  100kg  "
      ]
     },
     "execution_count": 6,
     "metadata": {},
     "output_type": "execute_result"
    }
   ],
   "source": [
    "nba.sample(10)\n",
    "#不放回随机抽取\n",
    "nba.sample(10,replace=True)\n",
    "#有放回抽样\n"
   ]
  },
  {
   "cell_type": "code",
   "execution_count": 7,
   "metadata": {},
   "outputs": [
    {
     "data": {
      "image/png": "[encoded data removed]",
      "text/plain": [
       "<Figure size 432x288 with 1 Axes>"
      ]
     },
     "metadata": {},
     "output_type": "display_data"
    }
   ],
   "source": [
    "def empirical_hist_face(n):\n",
    "    face_bins = np.arange(0.5,6.6,1)\n",
    "    face.sample(n, replace=True).hist(bins = face_bins, facecolor = 'y', edgecolor = 'r', density = True)\n",
    "    plt.xlabel(\"Face\")\n",
    "    plt.ylabel(\"density\")\n",
    "    plt.title(\"empirical_hist_face\")\n",
    "    plt.grid(False)\n",
    "empirical_hist_face(100)"
   ]
  },
  {
   "cell_type": "code",
   "execution_count": 8,
   "metadata": {},
   "outputs": [
    {
     "data": {
      "text/plain": [
       "[<matplotlib.lines.Line2D at 0x7f325479d518>]"
      ]
     },
     "execution_count": 8,
     "metadata": {},
     "output_type": "execute_result"
    },
    {
     "data": {
      "image/png": "[encoded data removed]",
      "text/plain": [
       "<Figure size 432x288 with 1 Axes>"
      ]
     },
     "metadata": {},
     "output_type": "display_data"
    }
   ],
   "source": [
    "def cal_ratio(n):\n",
    "    x = np.random.uniform(-0.5, 0.5, n)\n",
    "    y = np.random.uniform(-0.5, 0.5, n)\n",
    "    result = np.power(x, 2) + np.power(y, 2) <= np.power(0.5, 2)\n",
    "    return result.sum()/n*4\n",
    "l = []\n",
    "for i in np.arange(1,10001):\n",
    "    l.append(cal_ratio(i))\n",
    "x = np.arange(1,10001)\n",
    "plt.plot(x, l)\n",
    "plt.xlabel('x')\n",
    "plt.ylabel('$\\pi$')\n",
    "plt.plot([0,10000], [np.pi, np.pi], lw = 2, color = 'r')\n"
   ]
  },
  {
   "cell_type": "code",
   "execution_count": 9,
   "metadata": {},
   "outputs": [
    {
     "data": {
      "image/png": "[encoded data removed]",
      "text/plain": [
       "<Figure size 432x288 with 1 Axes>"
      ]
     },
     "metadata": {},
     "output_type": "display_data"
    }
   ],
   "source": [
    "x = np.arange(1, 10, 0.01)\n",
    "y = (1.5 + np.sin(x)) * (x + np.power(x, 2))\n",
    "plt.plot(x, y)\n",
    "plt.xticks(np.arange(1,11,1))\n",
    "plt.show()"
   ]
  },
  {
   "cell_type": "code",
   "execution_count": 10,
   "metadata": {},
   "outputs": [
    {
     "data": {
      "text/plain": [
       "724.8799999999999"
      ]
     },
     "execution_count": 10,
     "metadata": {},
     "output_type": "execute_result"
    }
   ],
   "source": [
    "def inte(n):\n",
    "    x0 = np.random.uniform(1,10, n)\n",
    "    y0 = np.random.uniform(0, 200, n)\n",
    "    result = (1.5 + np.sin(x0)) * (x0 + np.power(x0, 2)) > y0\n",
    "    return result.sum()/n * 10*200\n",
    "inte(100000)"
   ]
  },
  {
   "cell_type": "code",
   "execution_count": 11,
   "metadata": {},
   "outputs": [
    {
     "name": "stdout",
     "output_type": "stream",
     "text": [
      "0.33145\n"
     ]
    }
   ],
   "source": [
    "r = []\n",
    "door = np.arange(1,4)\n",
    "for n in np.arange(1,100001):\n",
    "    car = np.random.randint(1, 4, 1)\n",
    "    choice = np.random.randint(1,4,1)\n",
    "    if choice == car:\n",
    "        r = np.append(r, True)\n",
    "    else:\n",
    "        r = np.append(r, False)\n",
    "print(r.sum()/100000)"
   ]
  },
  {
   "cell_type": "code",
   "execution_count": null,
   "metadata": {},
   "outputs": [],
   "source": []
  },
  {
   "cell_type": "code",
   "execution_count": null,
   "metadata": {},
   "outputs": [],
   "source": []
  }
 ],
 "metadata": {
  "kernelspec": {
   "display_name": "Python 3",
   "language": "python",
   "name": "python3"
  },
  "language_info": {
   "codemirror_mode": {
    "name": "ipython",
    "version": 3
   },
   "file_extension": ".py",
   "mimetype": "text/x-python",
   "name": "python",
   "nbconvert_exporter": "python",
   "pygments_lexer": "ipython3",
   "version": "3.6.5"
  }
 },
 "nbformat": 4,
 "nbformat_minor": 2
}
