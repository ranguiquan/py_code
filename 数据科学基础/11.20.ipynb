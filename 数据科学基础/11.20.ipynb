{
 "cells": [
  {
   "cell_type": "code",
   "execution_count": 1,
   "metadata": {},
   "outputs": [],
   "source": [
    "import numpy as np\n",
    "import pandas as pd\n",
    "import matplotlib.pyplot as plt"
   ]
  },
  {
   "cell_type": "code",
   "execution_count": 7,
   "metadata": {},
   "outputs": [
    {
     "data": {
      "text/html": [
       "<div>\n",
       "<style scoped>\n",
       "    .dataframe tbody tr th:only-of-type {\n",
       "        vertical-align: middle;\n",
       "    }\n",
       "\n",
       "    .dataframe tbody tr th {\n",
       "        vertical-align: top;\n",
       "    }\n",
       "\n",
       "    .dataframe thead th {\n",
       "        text-align: right;\n",
       "    }\n",
       "</style>\n",
       "<table border=\"1\" class=\"dataframe\">\n",
       "  <thead>\n",
       "    <tr style=\"text-align: right;\">\n",
       "      <th></th>\n",
       "      <th>Section</th>\n",
       "      <th>Score</th>\n",
       "    </tr>\n",
       "  </thead>\n",
       "  <tbody>\n",
       "    <tr>\n",
       "      <th>0</th>\n",
       "      <td>12</td>\n",
       "      <td>8</td>\n",
       "    </tr>\n",
       "    <tr>\n",
       "      <th>1</th>\n",
       "      <td>8</td>\n",
       "      <td>7</td>\n",
       "    </tr>\n",
       "    <tr>\n",
       "      <th>2</th>\n",
       "      <td>8</td>\n",
       "      <td>7</td>\n",
       "    </tr>\n",
       "    <tr>\n",
       "      <th>3</th>\n",
       "      <td>3</td>\n",
       "      <td>7</td>\n",
       "    </tr>\n",
       "    <tr>\n",
       "      <th>4</th>\n",
       "      <td>2</td>\n",
       "      <td>8</td>\n",
       "    </tr>\n",
       "  </tbody>\n",
       "</table>\n",
       "</div>"
      ],
      "text/plain": [
       "   Section  Score\n",
       "0       12      8\n",
       "1        8      7\n",
       "2        8      7\n",
       "3        3      7\n",
       "4        2      8"
      ]
     },
     "execution_count": 7,
     "metadata": {},
     "output_type": "execute_result"
    }
   ],
   "source": [
    "scores = pd.read_csv(\"/home/ran/Downloads/scores_by_section.csv\")\n",
    "scores.head()"
   ]
  },
  {
   "cell_type": "code",
   "execution_count": 8,
   "metadata": {},
   "outputs": [
    {
     "data": {
      "text/html": [
       "<div>\n",
       "<style scoped>\n",
       "    .dataframe tbody tr th:only-of-type {\n",
       "        vertical-align: middle;\n",
       "    }\n",
       "\n",
       "    .dataframe tbody tr th {\n",
       "        vertical-align: top;\n",
       "    }\n",
       "\n",
       "    .dataframe thead th {\n",
       "        text-align: right;\n",
       "    }\n",
       "</style>\n",
       "<table border=\"1\" class=\"dataframe\">\n",
       "  <thead>\n",
       "    <tr style=\"text-align: right;\">\n",
       "      <th></th>\n",
       "      <th>Ball</th>\n",
       "      <th>Blakeman</th>\n",
       "      <th>Prioleau</th>\n",
       "    </tr>\n",
       "  </thead>\n",
       "  <tbody>\n",
       "    <tr>\n",
       "      <th>0</th>\n",
       "      <td>Patriots 1</td>\n",
       "      <td>11.50</td>\n",
       "      <td>11.80</td>\n",
       "    </tr>\n",
       "    <tr>\n",
       "      <th>1</th>\n",
       "      <td>Patriots 2</td>\n",
       "      <td>10.85</td>\n",
       "      <td>11.20</td>\n",
       "    </tr>\n",
       "    <tr>\n",
       "      <th>2</th>\n",
       "      <td>Patriots 3</td>\n",
       "      <td>11.15</td>\n",
       "      <td>11.50</td>\n",
       "    </tr>\n",
       "    <tr>\n",
       "      <th>3</th>\n",
       "      <td>Patriots 4</td>\n",
       "      <td>10.70</td>\n",
       "      <td>11.00</td>\n",
       "    </tr>\n",
       "    <tr>\n",
       "      <th>4</th>\n",
       "      <td>Patriots 5</td>\n",
       "      <td>11.10</td>\n",
       "      <td>11.45</td>\n",
       "    </tr>\n",
       "  </tbody>\n",
       "</table>\n",
       "</div>"
      ],
      "text/plain": [
       "         Ball  Blakeman  Prioleau\n",
       "0  Patriots 1     11.50     11.80\n",
       "1  Patriots 2     10.85     11.20\n",
       "2  Patriots 3     11.15     11.50\n",
       "3  Patriots 4     10.70     11.00\n",
       "4  Patriots 5     11.10     11.45"
      ]
     },
     "execution_count": 8,
     "metadata": {},
     "output_type": "execute_result"
    }
   ],
   "source": [
    "football = pd.read_csv(\"/home/ran/Downloads/football.csv\")\n",
    "football.head()"
   ]
  },
  {
   "cell_type": "code",
   "execution_count": 26,
   "metadata": {},
   "outputs": [
    {
     "data": {
      "image/png": "[encoded data removed]",
      "text/plain": [
       "<Figure size 432x288 with 1 Axes>"
      ]
     },
     "metadata": {},
     "output_type": "display_data"
    }
   ],
   "source": [
    "y = np.arange(1,5)\n",
    "y2 = np.arange(4,0,-1)\n",
    "x = np.arange(1,5)\n",
    "width = 1/4\n",
    "plt.bar(x-width/2,y,width = width )\n",
    "plt.bar(x+width/2, y2, width = width)\n",
    "plt.xticks(x,np.arange(1,5))\n",
    "plt.show()"
   ]
  },
  {
   "cell_type": "code",
   "execution_count": 38,
   "metadata": {},
   "outputs": [
    {
     "data": {
      "text/html": [
       "<div>\n",
       "<style scoped>\n",
       "    .dataframe tbody tr th:only-of-type {\n",
       "        vertical-align: middle;\n",
       "    }\n",
       "\n",
       "    .dataframe tbody tr th {\n",
       "        vertical-align: top;\n",
       "    }\n",
       "\n",
       "    .dataframe thead th {\n",
       "        text-align: right;\n",
       "    }\n",
       "</style>\n",
       "<table border=\"1\" class=\"dataframe\">\n",
       "  <thead>\n",
       "    <tr style=\"text-align: right;\">\n",
       "      <th></th>\n",
       "      <th>name</th>\n",
       "      <th>colomn1</th>\n",
       "      <th>colomn2</th>\n",
       "    </tr>\n",
       "  </thead>\n",
       "  <tbody>\n",
       "    <tr>\n",
       "      <th>0</th>\n",
       "      <td>a</td>\n",
       "      <td>0.30</td>\n",
       "      <td>0.4</td>\n",
       "    </tr>\n",
       "    <tr>\n",
       "      <th>1</th>\n",
       "      <td>b</td>\n",
       "      <td>0.20</td>\n",
       "      <td>0.1</td>\n",
       "    </tr>\n",
       "    <tr>\n",
       "      <th>2</th>\n",
       "      <td>c</td>\n",
       "      <td>0.45</td>\n",
       "      <td>0.4</td>\n",
       "    </tr>\n",
       "    <tr>\n",
       "      <th>3</th>\n",
       "      <td>d</td>\n",
       "      <td>0.05</td>\n",
       "      <td>0.1</td>\n",
       "    </tr>\n",
       "  </tbody>\n",
       "</table>\n",
       "</div>"
      ],
      "text/plain": [
       "  name  colomn1  colomn2\n",
       "0    a     0.30      0.4\n",
       "1    b     0.20      0.1\n",
       "2    c     0.45      0.4\n",
       "3    d     0.05      0.1"
      ]
     },
     "execution_count": 38,
     "metadata": {},
     "output_type": "execute_result"
    }
   ],
   "source": [
    "test = pd.DataFrame({'name':['a', 'b', 'c', 'd'],\n",
    "                    'colomn1':[0.3,0.2,0.45,0.05],\n",
    "                    'colomn2':[0.4,0.1,0.4,0.1]})\n",
    "test"
   ]
  },
  {
   "cell_type": "code",
   "execution_count": 35,
   "metadata": {},
   "outputs": [],
   "source": [
    "#总变异距离TVD\n",
    "def total_variation_distance(distribution_1, distribution_2):\n",
    "    return np.abs(distribution_1 - distribution_2).sum()/2"
   ]
  },
  {
   "cell_type": "code",
   "execution_count": 36,
   "metadata": {},
   "outputs": [
    {
     "data": {
      "text/plain": [
       "0.15"
      ]
     },
     "execution_count": 36,
     "metadata": {},
     "output_type": "execute_result"
    }
   ],
   "source": [
    "total_variation_distance(test.colomn1,test.colomn2)"
   ]
  },
  {
   "cell_type": "code",
   "execution_count": 61,
   "metadata": {},
   "outputs": [
    {
     "data": {
      "text/plain": [
       "'c'"
      ]
     },
     "execution_count": 61,
     "metadata": {},
     "output_type": "execute_result"
    }
   ],
   "source": [
    "import random\n",
    "def randomPick(name_list, prob_list):\n",
    "    cumulate_prob = 0.0\n",
    "    x = random.uniform(0,1)\n",
    "    for item, item_prob in zip(name_list, prob_list):\n",
    "        cumulate_prob += item_prob\n",
    "        if x < cumulate_prob:\n",
    "            break\n",
    "    return item\n",
    "randomPick(test.name, test.colomn1)"
   ]
  },
  {
   "cell_type": "code",
   "execution_count": 64,
   "metadata": {},
   "outputs": [],
   "source": [
    "ans = []\n",
    "for i in range(1000):\n",
    "    ans = np.append(ans, randomPick(test.name, test.colomn1))"
   ]
  },
  {
   "cell_type": "code",
   "execution_count": 80,
   "metadata": {},
   "outputs": [
    {
     "data": {
      "text/plain": [
       "array(['b', 'b', 'a', 'c', 'c', 'b', 'a', 'c', 'a', 'c', 'c', 'd', 'b',\n",
       "       'c', 'b', 'c', 'a', 'c', 'c', 'c', 'a', 'a', 'd', 'c', 'a', 'c',\n",
       "       'c', 'b', 'c', 'b', 'a', 'a', 'b', 'c', 'b', 'b', 'a', 'b', 'c',\n",
       "       'c', 'c', 'a', 'c', 'c', 'c', 'a', 'b', 'd', 'c', 'a', 'a', 'b',\n",
       "       'c', 'a', 'a', 'a', 'c', 'c', 'b', 'a', 'a', 'b', 'a', 'c', 'c',\n",
       "       'a', 'c', 'c', 'a', 'a', 'b', 'c', 'a', 'b', 'c', 'c', 'c', 'c',\n",
       "       'b', 'a', 'c', 'b', 'c', 'a', 'a', 'b', 'a', 'c', 'a', 'c', 'c',\n",
       "       'b', 'b', 'c', 'c', 'c', 'c', 'b', 'a', 'd', 'c', 'c', 'c', 'c',\n",
       "       'a', 'a', 'c', 'a', 'a', 'a', 'c', 'a', 'c', 'c', 'a', 'c', 'c',\n",
       "       'b', 'a', 'c', 'a', 'a', 'c', 'c', 'a', 'c', 'c', 'a', 'd', 'b',\n",
       "       'c', 'b', 'b', 'b', 'a', 'a', 'b', 'c', 'c', 'a', 'c', 'a', 'a',\n",
       "       'c', 'a', 'c', 'c', 'c', 'a', 'a', 'a', 'c', 'a', 'c', 'c', 'd',\n",
       "       'd', 'c', 'c', 'a', 'c', 'c', 'a', 'c', 'a', 'c', 'c', 'c', 'd',\n",
       "       'c', 'a', 'c', 'b', 'b', 'a', 'c', 'a', 'b', 'b', 'c', 'c', 'c',\n",
       "       'c', 'c', 'c', 'd', 'd', 'b', 'a', 'c', 'b', 'c', 'c', 'b', 'c',\n",
       "       'a', 'c', 'c', 'c', 'c', 'c', 'a', 'd', 'c', 'c', 'a', 'a', 'a',\n",
       "       'a', 'b', 'd', 'c', 'b', 'b', 'a', 'c', 'b', 'd', 'a', 'd', 'c',\n",
       "       'b', 'c', 'b', 'a', 'a', 'd', 'c', 'a', 'c', 'c', 'c', 'b', 'c',\n",
       "       'c', 'c', 'a', 'c', 'c', 'a', 'c', 'a', 'c', 'c', 'c', 'c', 'a',\n",
       "       'b', 'c', 'a', 'a', 'c', 'd', 'a', 'c', 'a', 'd', 'b', 'b', 'a',\n",
       "       'd', 'c', 'c', 'a', 'c', 'b', 'a', 'a', 'b', 'c', 'b', 'c', 'c',\n",
       "       'c', 'c', 'a', 'a', 'b', 'c', 'a', 'c', 'b', 'c', 'a', 'c', 'b',\n",
       "       'c', 'a', 'c', 'a', 'c', 'b', 'c', 'c', 'c', 'c', 'c', 'c', 'a',\n",
       "       'c', 'c', 'b', 'c', 'c', 'a', 'b', 'c', 'c', 'c', 'c', 'a', 'a',\n",
       "       'b', 'a', 'b', 'c', 'c', 'c', 'b', 'd', 'a', 'c', 'a', 'a', 'c',\n",
       "       'a', 'c', 'b', 'a', 'a', 'c', 'b', 'c', 'b', 'a', 'c', 'c', 'c',\n",
       "       'c', 'a', 'a', 'b', 'c', 'a', 'a', 'a', 'b', 'a', 'c', 'c', 'a',\n",
       "       'a', 'b', 'b', 'c', 'a', 'a', 'c', 'c', 'b', 'a', 'c', 'a', 'a',\n",
       "       'b', 'c', 'b', 'c', 'b', 'c', 'c', 'a', 'b', 'b', 'a', 'a', 'a',\n",
       "       'a', 'c', 'a', 'c', 'a', 'c', 'b', 'a', 'c', 'a', 'c', 'a', 'b',\n",
       "       'c', 'a', 'a', 'c', 'a', 'a', 'b', 'b', 'a', 'b', 'b', 'a', 'b',\n",
       "       'c', 'b', 'c', 'c', 'c', 'a', 'c', 'c', 'b', 'a', 'b', 'b', 'b',\n",
       "       'c', 'c', 'b', 'd', 'b', 'b', 'c', 'a', 'c', 'c', 'c', 'c', 'b',\n",
       "       'a', 'c', 'c', 'c', 'c', 'c', 'b', 'b', 'c', 'c', 'a', 'b', 'c',\n",
       "       'c', 'a', 'a', 'c', 'c', 'b', 'a', 'a', 'a', 'd', 'b', 'd', 'a',\n",
       "       'c', 'c', 'a', 'a', 'a', 'c', 'd', 'a', 'd', 'b', 'c', 'a', 'a',\n",
       "       'c', 'c', 'a', 'c', 'c', 'b', 'a', 'c', 'a', 'b', 'b', 'd', 'c',\n",
       "       'c', 'b', 'a', 'b', 'c', 'b', 'c', 'a', 'a', 'b', 'a', 'c', 'c',\n",
       "       'a', 'c', 'c', 'b', 'b', 'c', 'b', 'a', 'c', 'c', 'a', 'a', 'a',\n",
       "       'c', 'b', 'a', 'b', 'c', 'b', 'd', 'c', 'a', 'a', 'a', 'b', 'c',\n",
       "       'c', 'c', 'a', 'a', 'b', 'a', 'b', 'c', 'a', 'b', 'c', 'c', 'c',\n",
       "       'a', 'c', 'c', 'c', 'c', 'c', 'a', 'a', 'c', 'b', 'c', 'a', 'c',\n",
       "       'b', 'c', 'c', 'c', 'c', 'c', 'c', 'c', 'a', 'c', 'c', 'a', 'a',\n",
       "       'a', 'b', 'c', 'a', 'c', 'a', 'c', 'a', 'a', 'a', 'c', 'a', 'c',\n",
       "       'a', 'b', 'c', 'a', 'a', 'c', 'a', 'c', 'c', 'b', 'b', 'a', 'b',\n",
       "       'b', 'b', 'a', 'c', 'a', 'c', 'd', 'b', 'c', 'c', 'b', 'd', 'c',\n",
       "       'c', 'a', 'c', 'c', 'a', 'b', 'a', 'a', 'c', 'c', 'b', 'c', 'a',\n",
       "       'c', 'a', 'b', 'b', 'c', 'c', 'b', 'a', 'c', 'c', 'a', 'a', 'b',\n",
       "       'a', 'd', 'c', 'c', 'b', 'c', 'b', 'a', 'c', 'c', 'c', 'b', 'c',\n",
       "       'b', 'c', 'a', 'c', 'c', 'c', 'b', 'c', 'c', 'c', 'c', 'a', 'b',\n",
       "       'c', 'a', 'a', 'a', 'c', 'a', 'c', 'a', 'c', 'a', 'c', 'a', 'c',\n",
       "       'a', 'b', 'a', 'a', 'c', 'b', 'c', 'c', 'b', 'c', 'b', 'a', 'c',\n",
       "       'c', 'c', 'b', 'c', 'c', 'a', 'a', 'c', 'd', 'c', 'b', 'c', 'b',\n",
       "       'a', 'c', 'b', 'c', 'c', 'a', 'a', 'b', 'c', 'a', 'b', 'c', 'c',\n",
       "       'c', 'c', 'b', 'a', 'c', 'd', 'a', 'a', 'd', 'd', 'd', 'b', 'c',\n",
       "       'a', 'b', 'a', 'b', 'c', 'a', 'a', 'a', 'c', 'a', 'c', 'b', 'c',\n",
       "       'c', 'c', 'c', 'b', 'c', 'c', 'c', 'b', 'a', 'c', 'a', 'b', 'a',\n",
       "       'd', 'b', 'a', 'a', 'c', 'c', 'c', 'c', 'a', 'c', 'c', 'c', 'b',\n",
       "       'c', 'c', 'a', 'd', 'b', 'a', 'b', 'c', 'c', 'b', 'a', 'c', 'c',\n",
       "       'a', 'b', 'c', 'c', 'a', 'a', 'b', 'c', 'c', 'd', 'a', 'b', 'c',\n",
       "       'a', 'd', 'c', 'c', 'b', 'b', 'c', 'c', 'a', 'a', 'b', 'c', 'c',\n",
       "       'c', 'c', 'c', 'c', 'a', 'b', 'c', 'c', 'a', 'a', 'c', 'c', 'c',\n",
       "       'a', 'd', 'c', 'c', 'b', 'c', 'c', 'c', 'c', 'c', 'c', 'c', 'a',\n",
       "       'c', 'b', 'c', 'c', 'c', 'c', 'b', 'c', 'b', 'c', 'c', 'c', 'a',\n",
       "       'c', 'a', 'c', 'd', 'c', 'c', 'c', 'a', 'b', 'b', 'a', 'a', 'b',\n",
       "       'c', 'a', 'd', 'a', 'b', 'c', 'c', 'c', 'b', 'b', 'b', 'c', 'a',\n",
       "       'a', 'c', 'b', 'b', 'c', 'b', 'a', 'c', 'd', 'a', 'c', 'b', 'a',\n",
       "       'b', 'd', 'b', 'a', 'b', 'c', 'b', 'c', 'c', 'a', 'a', 'c', 'a',\n",
       "       'd', 'b', 'b', 'c', 'b', 'a', 'c', 'c', 'b', 'c', 'd', 'c', 'c',\n",
       "       'c', 'c', 'a', 'a', 'c', 'c', 'c', 'c', 'c', 'a', 'a', 'b', 'c',\n",
       "       'b', 'c', 'c', 'b', 'c', 'c', 'c', 'a', 'c', 'c', 'd', 'c', 'c',\n",
       "       'c', 'b', 'b', 'b', 'c', 'a', 'c', 'c', 'c', 'c', 'a', 'c', 'd',\n",
       "       'c', 'c', 'c', 'c', 'c', 'a', 'c', 'c', 'c', 'b', 'c', 'c', 'c',\n",
       "       'c', 'b', 'b', 'a', 'b', 'c', 'c', 'c', 'b', 'c', 'a', 'c', 'a',\n",
       "       'c', 'b', 'c', 'a', 'a', 'c', 'c', 'a', 'a', 'd', 'c', 'c', 'c',\n",
       "       'b', 'b', 'c', 'c', 'a', 'c', 'c', 'a', 'c', 'c', 'c', 'c', 'c',\n",
       "       'c', 'b', 'a', 'b', 'c', 'c', 'b', 'a', 'a', 'c', 'a', 'c'],\n",
       "      dtype='<U32')"
      ]
     },
     "execution_count": 80,
     "metadata": {},
     "output_type": "execute_result"
    }
   ],
   "source": []
  },
  {
   "cell_type": "code",
   "execution_count": null,
   "metadata": {},
   "outputs": [],
   "source": []
  }
 ],
 "metadata": {
  "kernelspec": {
   "display_name": "Python 3",
   "language": "python",
   "name": "python3"
  },
  "language_info": {
   "codemirror_mode": {
    "name": "ipython",
    "version": 3
   },
   "file_extension": ".py",
   "mimetype": "text/x-python",
   "name": "python",
   "nbconvert_exporter": "python",
   "pygments_lexer": "ipython3",
   "version": "3.6.5"
  }
 },
 "nbformat": 4,
 "nbformat_minor": 2
}
